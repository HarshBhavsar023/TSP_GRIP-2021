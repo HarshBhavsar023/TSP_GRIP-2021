{
  "nbformat": 4,
  "nbformat_minor": 0,
  "metadata": {
    "colab": {
      "name": "Test_Score_prediction",
      "provenance": [],
      "authorship_tag": "ABX9TyO3Ik8X+nXoKzPky4jaQl7S",
      "include_colab_link": true
    },
    "kernelspec": {
      "name": "python3",
      "display_name": "Python 3"
    }
  },
  "cells": [
    {
      "cell_type": "markdown",
      "metadata": {
        "id": "view-in-github",
        "colab_type": "text"
      },
      "source": [
        "<a href=\"https://colab.research.google.com/github/HarshBhavsar023/TSP_GRIP-2021/blob/main/Test_Score_prediction.ipynb\" target=\"_parent\"><img src=\"https://colab.research.google.com/assets/colab-badge.svg\" alt=\"Open In Colab\"/></a>"
      ]
    },
    {
      "cell_type": "markdown",
      "metadata": {
        "id": "kvOpL6tnzcHw"
      },
      "source": [
        "#The Sparks Foundation \r\n",
        "###GRIP Task 1 : Prediction using Supervised ML\r\n",
        "\r\n",
        "Pridiction of percentage score based on the no. of hour he/she studies\r\n",
        "####Author : Harsh Bhavsar"
      ]
    },
    {
      "cell_type": "markdown",
      "metadata": {
        "id": "sqTMOknqoE37"
      },
      "source": [
        "###Importing Required Libraries\r\n",
        "---\r\n",
        "####matplotlib : \r\n",
        "It is a ploting library for the Python programming language and its numerical mathematics \r\n",
        "\r\n",
        "####pandas : \r\n",
        "Library for data Manipulation and Analysis\r\n",
        "\r\n",
        "####numpy : \r\n",
        "Library for supporting large, multi-dimensional arrays and matrices and high-level mathematical functions \r\n",
        "\r\n",
        "####sklearn:\r\n",
        "machine learning library provides useful machine Learning algorithms "
      ]
    },
    {
      "cell_type": "code",
      "metadata": {
        "id": "tMmIxiZiy5sJ"
      },
      "source": [
        "import matplotlib.pyplot as plt \r\n",
        "import pandas as pd\r\n",
        "import numpy as np \r\n",
        "\r\n",
        "from sklearn.linear_model import LinearRegression\r\n",
        "from sklearn.model_selection import train_test_split\r\n",
        "from sklearn.metrics import mean_absolute_error"
      ],
      "execution_count": 147,
      "outputs": []
    },
    {
      "cell_type": "markdown",
      "metadata": {
        "id": "TuEnR22Lmeex"
      },
      "source": [
        "Importing Data"
      ]
    },
    {
      "cell_type": "code",
      "metadata": {
        "colab": {
          "base_uri": "https://localhost:8080/",
          "height": 363
        },
        "id": "BLiPcumW0Lc9",
        "outputId": "59c5e014-4cae-4ffd-902d-cb5e770deee4"
      },
      "source": [
        "data = pd.read_csv('http://bit.ly/w-data')\r\n",
        "data.head(10)"
      ],
      "execution_count": 148,
      "outputs": [
        {
          "output_type": "execute_result",
          "data": {
            "text/html": [
              "<div>\n",
              "<style scoped>\n",
              "    .dataframe tbody tr th:only-of-type {\n",
              "        vertical-align: middle;\n",
              "    }\n",
              "\n",
              "    .dataframe tbody tr th {\n",
              "        vertical-align: top;\n",
              "    }\n",
              "\n",
              "    .dataframe thead th {\n",
              "        text-align: right;\n",
              "    }\n",
              "</style>\n",
              "<table border=\"1\" class=\"dataframe\">\n",
              "  <thead>\n",
              "    <tr style=\"text-align: right;\">\n",
              "      <th></th>\n",
              "      <th>Hours</th>\n",
              "      <th>Scores</th>\n",
              "    </tr>\n",
              "  </thead>\n",
              "  <tbody>\n",
              "    <tr>\n",
              "      <th>0</th>\n",
              "      <td>2.5</td>\n",
              "      <td>21</td>\n",
              "    </tr>\n",
              "    <tr>\n",
              "      <th>1</th>\n",
              "      <td>5.1</td>\n",
              "      <td>47</td>\n",
              "    </tr>\n",
              "    <tr>\n",
              "      <th>2</th>\n",
              "      <td>3.2</td>\n",
              "      <td>27</td>\n",
              "    </tr>\n",
              "    <tr>\n",
              "      <th>3</th>\n",
              "      <td>8.5</td>\n",
              "      <td>75</td>\n",
              "    </tr>\n",
              "    <tr>\n",
              "      <th>4</th>\n",
              "      <td>3.5</td>\n",
              "      <td>30</td>\n",
              "    </tr>\n",
              "    <tr>\n",
              "      <th>5</th>\n",
              "      <td>1.5</td>\n",
              "      <td>20</td>\n",
              "    </tr>\n",
              "    <tr>\n",
              "      <th>6</th>\n",
              "      <td>9.2</td>\n",
              "      <td>88</td>\n",
              "    </tr>\n",
              "    <tr>\n",
              "      <th>7</th>\n",
              "      <td>5.5</td>\n",
              "      <td>60</td>\n",
              "    </tr>\n",
              "    <tr>\n",
              "      <th>8</th>\n",
              "      <td>8.3</td>\n",
              "      <td>81</td>\n",
              "    </tr>\n",
              "    <tr>\n",
              "      <th>9</th>\n",
              "      <td>2.7</td>\n",
              "      <td>25</td>\n",
              "    </tr>\n",
              "  </tbody>\n",
              "</table>\n",
              "</div>"
            ],
            "text/plain": [
              "   Hours  Scores\n",
              "0    2.5      21\n",
              "1    5.1      47\n",
              "2    3.2      27\n",
              "3    8.5      75\n",
              "4    3.5      30\n",
              "5    1.5      20\n",
              "6    9.2      88\n",
              "7    5.5      60\n",
              "8    8.3      81\n",
              "9    2.7      25"
            ]
          },
          "metadata": {
            "tags": []
          },
          "execution_count": 148
        }
      ]
    },
    {
      "cell_type": "markdown",
      "metadata": {
        "id": "fjSUXmM5rYTK"
      },
      "source": [
        "checking null values in Dataset, \r\n",
        "Here it is FALSE it means we can proceed .."
      ]
    },
    {
      "cell_type": "code",
      "metadata": {
        "colab": {
          "base_uri": "https://localhost:8080/"
        },
        "id": "N6Bf_0W61ERq",
        "outputId": "07714283-a567-426a-a24f-bfc904b81a6a"
      },
      "source": [
        "data.isnull == True "
      ],
      "execution_count": 149,
      "outputs": [
        {
          "output_type": "execute_result",
          "data": {
            "text/plain": [
              "False"
            ]
          },
          "metadata": {
            "tags": []
          },
          "execution_count": 149
        }
      ]
    },
    {
      "cell_type": "markdown",
      "metadata": {
        "id": "cLFw08ufrm-N"
      },
      "source": [
        "With this scatter plot, We can say that there is some co-relation with percentage scores and hours of studying..."
      ]
    },
    {
      "cell_type": "code",
      "metadata": {
        "colab": {
          "base_uri": "https://localhost:8080/",
          "height": 300
        },
        "id": "7JSlMpJd23bV",
        "outputId": "ef5a2a78-2189-44be-ca79-4d9096c18307"
      },
      "source": [
        "data.plot(x='Hours', y='Scores', style='x')\r\n",
        "plt.grid(b=None,alpha=0.25,axis='both', color='blue')\r\n",
        "plt.title('Percentage Vs Study Hours',size=20)\r\n",
        "plt.ylabel('Percentage', size=10)\r\n",
        "plt.xlabel('Hours Studied', size=10)\r\n",
        "plt.show()"
      ],
      "execution_count": 150,
      "outputs": [
        {
          "output_type": "display_data",
          "data": {
            "image/png": "[encoded data removed]",
            "text/plain": [
              "<Figure size 432x288 with 1 Axes>"
            ]
          },
          "metadata": {
            "tags": [],
            "needs_background": "light"
          }
        }
      ]
    },
    {
      "cell_type": "markdown",
      "metadata": {
        "id": "cOYX02qksXsR"
      },
      "source": [
        "To prove that co-relation we will do regression, In this case there is co-releation... "
      ]
    },
    {
      "cell_type": "code",
      "metadata": {
        "colab": {
          "base_uri": "https://localhost:8080/",
          "height": 295
        },
        "id": "SAN3nzmCYm6m",
        "outputId": "0851f16c-b0bd-439a-8542-4bcaa4fe9408"
      },
      "source": [
        "line = regressor.coef_*X+regressor.intercept_\r\n",
        "\r\n",
        "plt.scatter(X, y)\r\n",
        "plt.grid(b=None,alpha=0.25,axis='both', color='blue')\r\n",
        "plt.plot(X, line,color='red')\r\n",
        "plt.title('Regression : Hours v/s Percentage')  \r\n",
        "plt.xlabel('Hours Studied')  \r\n",
        "plt.ylabel('Percentage')  \r\n",
        "plt.show()"
      ],
      "execution_count": 151,
      "outputs": [
        {
          "output_type": "display_data",
          "data": {
            "image/png": "[encoded data removed]",
            "text/plain": [
              "<Figure size 432x288 with 1 Axes>"
            ]
          },
          "metadata": {
            "tags": [],
            "needs_background": "light"
          }
        }
      ]
    },
    {
      "cell_type": "markdown",
      "metadata": {
        "id": "spPtBC-7s6Fk"
      },
      "source": [
        "#Training a model \r\n"
      ]
    },
    {
      "cell_type": "markdown",
      "metadata": {
        "id": "UCFD_7zDwHZ6"
      },
      "source": [
        "Data splitting into Training and Testing "
      ]
    },
    {
      "cell_type": "code",
      "metadata": {
        "id": "61k4mc3sJqC9"
      },
      "source": [
        "X = data.iloc[:, :-1].values  \r\n",
        "Y = data.iloc[:, 1].values\r\n",
        "\r\n",
        "X_train, X_test, Y_train, Y_test = train_test_split(X, Y, test_size=0.25, random_state=0)"
      ],
      "execution_count": 152,
      "outputs": []
    },
    {
      "cell_type": "markdown",
      "metadata": {
        "id": "0552vVLPwk2W"
      },
      "source": [
        "Fitting Data into model"
      ]
    },
    {
      "cell_type": "code",
      "metadata": {
        "colab": {
          "base_uri": "https://localhost:8080/"
        },
        "id": "kkFpf8WXVbyn",
        "outputId": "5cc04346-4a43-40cb-fd0e-99e0271276a3"
      },
      "source": [
        "regressor = LinearRegression()\r\n",
        "regressor.fit(X_train, Y_train)\r\n",
        "print(\"Training Completed...\") "
      ],
      "execution_count": 153,
      "outputs": [
        {
          "output_type": "stream",
          "text": [
            "Training Completed...\n"
          ],
          "name": "stdout"
        }
      ]
    },
    {
      "cell_type": "markdown",
      "metadata": {
        "id": "WrLJuVcfwpfn"
      },
      "source": [
        "Pedicting Percentage "
      ]
    },
    {
      "cell_type": "code",
      "metadata": {
        "colab": {
          "base_uri": "https://localhost:8080/"
        },
        "id": "pughNN2myBzG",
        "outputId": "9f1bf30f-9dd4-4e8a-f78b-fbb2d4c12d57"
      },
      "source": [
        "print(X_test)\r\n",
        "Y_pred = regressor.predict(X_test)\r\n",
        "print(Y_pred)"
      ],
      "execution_count": 154,
      "outputs": [
        {
          "output_type": "stream",
          "text": [
            "[[1.5]\n",
            " [3.2]\n",
            " [7.4]\n",
            " [2.5]\n",
            " [5.9]\n",
            " [3.8]\n",
            " [1.9]]\n",
            "[16.84472176 33.74557494 75.50062397 26.7864001  60.58810646 39.71058194\n",
            " 20.8213931 ]\n"
          ],
          "name": "stdout"
        }
      ]
    },
    {
      "cell_type": "markdown",
      "metadata": {
        "id": "PnKDL-zHzWI-"
      },
      "source": [
        "Comparing the Actual marks with predicted"
      ]
    },
    {
      "cell_type": "code",
      "metadata": {
        "colab": {
          "base_uri": "https://localhost:8080/",
          "height": 269
        },
        "id": "gSJwzYfCbzWk",
        "outputId": "f99330a7-5bc8-412b-f3b2-69e8adfc1a91"
      },
      "source": [
        "df = pd.DataFrame({'Actual': Y_test, 'Predicted': Y_pred}) \r\n",
        "df"
      ],
      "execution_count": 155,
      "outputs": [
        {
          "output_type": "execute_result",
          "data": {
            "text/html": [
              "<div>\n",
              "<style scoped>\n",
              "    .dataframe tbody tr th:only-of-type {\n",
              "        vertical-align: middle;\n",
              "    }\n",
              "\n",
              "    .dataframe tbody tr th {\n",
              "        vertical-align: top;\n",
              "    }\n",
              "\n",
              "    .dataframe thead th {\n",
              "        text-align: right;\n",
              "    }\n",
              "</style>\n",
              "<table border=\"1\" class=\"dataframe\">\n",
              "  <thead>\n",
              "    <tr style=\"text-align: right;\">\n",
              "      <th></th>\n",
              "      <th>Actual</th>\n",
              "      <th>Predicted</th>\n",
              "    </tr>\n",
              "  </thead>\n",
              "  <tbody>\n",
              "    <tr>\n",
              "      <th>0</th>\n",
              "      <td>20</td>\n",
              "      <td>16.844722</td>\n",
              "    </tr>\n",
              "    <tr>\n",
              "      <th>1</th>\n",
              "      <td>27</td>\n",
              "      <td>33.745575</td>\n",
              "    </tr>\n",
              "    <tr>\n",
              "      <th>2</th>\n",
              "      <td>69</td>\n",
              "      <td>75.500624</td>\n",
              "    </tr>\n",
              "    <tr>\n",
              "      <th>3</th>\n",
              "      <td>30</td>\n",
              "      <td>26.786400</td>\n",
              "    </tr>\n",
              "    <tr>\n",
              "      <th>4</th>\n",
              "      <td>62</td>\n",
              "      <td>60.588106</td>\n",
              "    </tr>\n",
              "    <tr>\n",
              "      <th>5</th>\n",
              "      <td>35</td>\n",
              "      <td>39.710582</td>\n",
              "    </tr>\n",
              "    <tr>\n",
              "      <th>6</th>\n",
              "      <td>24</td>\n",
              "      <td>20.821393</td>\n",
              "    </tr>\n",
              "  </tbody>\n",
              "</table>\n",
              "</div>"
            ],
            "text/plain": [
              "   Actual  Predicted\n",
              "0      20  16.844722\n",
              "1      27  33.745575\n",
              "2      69  75.500624\n",
              "3      30  26.786400\n",
              "4      62  60.588106\n",
              "5      35  39.710582\n",
              "6      24  20.821393"
            ]
          },
          "metadata": {
            "tags": []
          },
          "execution_count": 155
        }
      ]
    },
    {
      "cell_type": "markdown",
      "metadata": {
        "id": "WB66l160zZtB"
      },
      "source": [
        "Visually comparing Acutal Values with Predicted Values"
      ]
    },
    {
      "cell_type": "code",
      "metadata": {
        "colab": {
          "base_uri": "https://localhost:8080/",
          "height": 320
        },
        "id": "YAQvwKG9duUh",
        "outputId": "d562237a-8957-40f9-c50c-8361c24a7361"
      },
      "source": [
        "df.plot(kind='kde', figsize=(5,5))\r\n",
        "plt.grid(which='major', linewidth='0.5', color='cyan')\r\n",
        "plt.grid(which='minor', linewidth='0.5', color='red')\r\n",
        "plt.show()"
      ],
      "execution_count": 156,
      "outputs": [
        {
          "output_type": "display_data",
          "data": {
            "image/png": "[encoded data removed]",
            "text/plain": [
              "<Figure size 360x360 with 1 Axes>"
            ]
          },
          "metadata": {
            "tags": [],
            "needs_background": "light"
          }
        }
      ]
    },
    {
      "cell_type": "markdown",
      "metadata": {
        "id": "Sbe-zFFmzk2E"
      },
      "source": [
        "###Finding What will be the score of a Student, If he/she studies for 9.25 hrs hours per day??"
      ]
    },
    {
      "cell_type": "code",
      "metadata": {
        "colab": {
          "base_uri": "https://localhost:8080/"
        },
        "id": "BIw7B-rTc1Tq",
        "outputId": "19364bc6-a76a-4b67-ccd1-5336b0bf4203"
      },
      "source": [
        "hours = [9.25]\r\n",
        "pred = regressor.predict(test)\r\n",
        "print(\"No of Hours = {}\".format(hours))\r\n",
        "print(\"Predicted Score = {}\".format(pred[0]))"
      ],
      "execution_count": 157,
      "outputs": [
        {
          "output_type": "stream",
          "text": [
            "No of Hours = [9.25]\n",
            "Predicted Score = 93.89272889341652\n"
          ],
          "name": "stdout"
        }
      ]
    },
    {
      "cell_type": "markdown",
      "metadata": {
        "id": "wTqo0g2p1Z85"
      },
      "source": [
        "According to this model Answer is 93.89"
      ]
    },
    {
      "cell_type": "markdown",
      "metadata": {
        "id": "I68u_tZE0Xkc"
      },
      "source": [
        "###Model Evaluation :\r\n",
        "Small no. of mean absolute error indicates the model is in a great shape "
      ]
    },
    {
      "cell_type": "code",
      "metadata": {
        "colab": {
          "base_uri": "https://localhost:8080/"
        },
        "id": "eu06Rp0-iQe_",
        "outputId": "ece726e3-3e50-48c0-b5e1-631de37859fa"
      },
      "source": [
        "print('Mean Absolute error : ',  mean_absolute_error(Y_pred,Y_test))"
      ],
      "execution_count": 158,
      "outputs": [
        {
          "output_type": "stream",
          "text": [
            "Mean Absolute error :  4.130879918502482\n"
          ],
          "name": "stdout"
        }
      ]
    },
    {
      "cell_type": "markdown",
      "metadata": {
        "id": "obMDtuOamnte"
      },
      "source": [
        "#CONCLUSION: \r\n",
        "---\r\n",
        "###when a student Studies for **9.25** hrs he/she tends to score **93.89%** marks "
      ]
    }
  ]
}